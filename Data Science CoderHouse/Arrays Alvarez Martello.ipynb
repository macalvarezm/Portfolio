{
 "cells": [
  {
   "cell_type": "code",
   "execution_count": 2,
   "id": "4681cf97",
   "metadata": {},
   "outputs": [],
   "source": [
    "import numpy as np"
   ]
  },
  {
   "cell_type": "code",
   "execution_count": 5,
   "id": "12acb689",
   "metadata": {},
   "outputs": [
    {
     "name": "stdout",
     "output_type": "stream",
     "text": [
      "[[68  1 22 50 57 93 80 66 46 91]\n",
      " [38  6 95 76  9 94 81 69 55 21]\n",
      " [50 43 29 74  7 90 53 22  9 50]\n",
      " [35 77 83 93 12 71 65 48 19 53]\n",
      " [20  1 44 95 44 55 79 44 49 10]\n",
      " [76 65 32 72 99 35 30  4 41 85]\n",
      " [48 75  7 19 51 90 76 38 17 40]\n",
      " [44 70 20 15 92 45 53 34  2 47]\n",
      " [33 15 54 11  1 88 69 93 69  9]\n",
      " [41 20 65 90 32 86 32 85 80 64]]\n",
      "La mediana de los números es 49.5\n"
     ]
    }
   ],
   "source": [
    "#Ejercicio mediana\n",
    "\n",
    "array_números=np.random.randint(100, size=(10,10))\n",
    "print(array_números)\n",
    "print (\"La mediana de los números es\",np.median(array_números))"
   ]
  },
  {
   "cell_type": "code",
   "execution_count": 21,
   "id": "eaa19193",
   "metadata": {},
   "outputs": [
    {
     "name": "stdout",
     "output_type": "stream",
     "text": [
      "El factorial de 6 es 720\n"
     ]
    }
   ],
   "source": [
    "#Ejercicio factorial\n",
    "array_1=np.random.randint(20)\n",
    "print(\"El factorial de\",array_1,\"es\",np.math.factorial(array_1))"
   ]
  },
  {
   "cell_type": "code",
   "execution_count": 32,
   "id": "d4e4bb71",
   "metadata": {},
   "outputs": [
    {
     "name": "stdout",
     "output_type": "stream",
     "text": [
      "La sumatoria es 15\n"
     ]
    }
   ],
   "source": [
    "#Ejercicio sumatoria\n",
    "\n",
    "def suma(m,n):\n",
    "   \n",
    "    if m<n:\n",
    "        x=np.array(range(n-m+2))  \n",
    "    \n",
    "    else:\n",
    "        x=np.array(range(m-n+2))\n",
    "    return x.sum()\n",
    "    \n",
    "print(\"La sumatoria es\",suma(1,5))"
   ]
  },
  {
   "cell_type": "code",
   "execution_count": 26,
   "id": "22f7cd6b",
   "metadata": {},
   "outputs": [],
   "source": [
    "#Ejercicio sueldos\n",
    "from numpy import genfromtxt\n",
    "\n",
    "array1 = np.genfromtxt(\"sueldos.txt\", delimiter=\",\")\n",
    "nan_array= np.isnan(array1)\n",
    "not_nan_array =~ nan_array\n",
    "sueldos = array1[not_nan_array] "
   ]
  },
  {
   "cell_type": "code",
   "execution_count": 33,
   "id": "71520871",
   "metadata": {},
   "outputs": [
    {
     "name": "stdout",
     "output_type": "stream",
     "text": [
      "La media de los sueldos es 18652846.870649517\n",
      "La mediana de los suelos es 75000.0\n"
     ]
    }
   ],
   "source": [
    "media=np.mean(sueldos)\n",
    "print(\"La media de los sueldos es\", media)\n",
    "mediana=np.median(sueldos)\n",
    "print(\"La mediana de los suelos es\", mediana)"
   ]
  }
 ],
 "metadata": {
  "kernelspec": {
   "display_name": "Python 3 (ipykernel)",
   "language": "python",
   "name": "python3"
  },
  "language_info": {
   "codemirror_mode": {
    "name": "ipython",
    "version": 3
   },
   "file_extension": ".py",
   "mimetype": "text/x-python",
   "name": "python",
   "nbconvert_exporter": "python",
   "pygments_lexer": "ipython3",
   "version": "3.9.7"
  }
 },
 "nbformat": 4,
 "nbformat_minor": 5
}
