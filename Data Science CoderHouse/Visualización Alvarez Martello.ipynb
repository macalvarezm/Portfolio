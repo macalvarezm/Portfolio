{
 "cells": [
  {
   "cell_type": "markdown",
   "id": "b4446bfd",
   "metadata": {},
   "source": [
    "## Visualización de HR"
   ]
  },
  {
   "cell_type": "markdown",
   "id": "1632b2a9",
   "metadata": {},
   "source": [
    "**Importación de librerías**"
   ]
  },
  {
   "cell_type": "code",
   "execution_count": 32,
   "id": "8251af1e",
   "metadata": {},
   "outputs": [],
   "source": [
    "from sklearn import datasets\n",
    "import matplotlib as mpl\n",
    "import matplotlib.pyplot as plt\n",
    "import seaborn as sns\n",
    "from datetime import datetime\n",
    "import pandas as pd \n",
    "import numpy as np"
   ]
  },
  {
   "cell_type": "markdown",
   "id": "3d2253a2",
   "metadata": {},
   "source": [
    "**Lectura del dataframe**"
   ]
  },
  {
   "cell_type": "code",
   "execution_count": 33,
   "id": "20364952",
   "metadata": {
    "scrolled": true
   },
   "outputs": [
    {
     "data": {
      "text/html": [
       "<div>\n",
       "<style scoped>\n",
       "    .dataframe tbody tr th:only-of-type {\n",
       "        vertical-align: middle;\n",
       "    }\n",
       "\n",
       "    .dataframe tbody tr th {\n",
       "        vertical-align: top;\n",
       "    }\n",
       "\n",
       "    .dataframe thead th {\n",
       "        text-align: right;\n",
       "    }\n",
       "</style>\n",
       "<table border=\"1\" class=\"dataframe\">\n",
       "  <thead>\n",
       "    <tr style=\"text-align: right;\">\n",
       "      <th></th>\n",
       "      <th>Employee_Name</th>\n",
       "      <th>EmpID</th>\n",
       "      <th>MarriedID</th>\n",
       "      <th>MaritalStatusID</th>\n",
       "      <th>GenderID</th>\n",
       "      <th>EmpStatusID</th>\n",
       "      <th>DeptID</th>\n",
       "      <th>PerfScoreID</th>\n",
       "      <th>FromDiversityJobFairID</th>\n",
       "      <th>Salary</th>\n",
       "      <th>...</th>\n",
       "      <th>ManagerName</th>\n",
       "      <th>ManagerID</th>\n",
       "      <th>RecruitmentSource</th>\n",
       "      <th>PerformanceScore</th>\n",
       "      <th>EngagementSurvey</th>\n",
       "      <th>EmpSatisfaction</th>\n",
       "      <th>SpecialProjectsCount</th>\n",
       "      <th>LastPerformanceReview_Date</th>\n",
       "      <th>DaysLateLast30</th>\n",
       "      <th>Absences</th>\n",
       "    </tr>\n",
       "  </thead>\n",
       "  <tbody>\n",
       "    <tr>\n",
       "      <th>0</th>\n",
       "      <td>Adinolfi, Wilson  K</td>\n",
       "      <td>10026</td>\n",
       "      <td>0</td>\n",
       "      <td>0</td>\n",
       "      <td>1</td>\n",
       "      <td>1</td>\n",
       "      <td>5</td>\n",
       "      <td>4</td>\n",
       "      <td>0</td>\n",
       "      <td>62506</td>\n",
       "      <td>...</td>\n",
       "      <td>Michael Albert</td>\n",
       "      <td>22.0</td>\n",
       "      <td>LinkedIn</td>\n",
       "      <td>Exceeds</td>\n",
       "      <td>4.60</td>\n",
       "      <td>5</td>\n",
       "      <td>0</td>\n",
       "      <td>1/17/2019</td>\n",
       "      <td>0</td>\n",
       "      <td>1</td>\n",
       "    </tr>\n",
       "    <tr>\n",
       "      <th>1</th>\n",
       "      <td>Ait Sidi, Karthikeyan</td>\n",
       "      <td>10084</td>\n",
       "      <td>1</td>\n",
       "      <td>1</td>\n",
       "      <td>1</td>\n",
       "      <td>5</td>\n",
       "      <td>3</td>\n",
       "      <td>3</td>\n",
       "      <td>0</td>\n",
       "      <td>104437</td>\n",
       "      <td>...</td>\n",
       "      <td>Simon Roup</td>\n",
       "      <td>4.0</td>\n",
       "      <td>Indeed</td>\n",
       "      <td>Fully Meets</td>\n",
       "      <td>4.96</td>\n",
       "      <td>3</td>\n",
       "      <td>6</td>\n",
       "      <td>2/24/2016</td>\n",
       "      <td>0</td>\n",
       "      <td>17</td>\n",
       "    </tr>\n",
       "    <tr>\n",
       "      <th>2</th>\n",
       "      <td>Akinkuolie, Sarah</td>\n",
       "      <td>10196</td>\n",
       "      <td>1</td>\n",
       "      <td>1</td>\n",
       "      <td>0</td>\n",
       "      <td>5</td>\n",
       "      <td>5</td>\n",
       "      <td>3</td>\n",
       "      <td>0</td>\n",
       "      <td>64955</td>\n",
       "      <td>...</td>\n",
       "      <td>Kissy Sullivan</td>\n",
       "      <td>20.0</td>\n",
       "      <td>LinkedIn</td>\n",
       "      <td>Fully Meets</td>\n",
       "      <td>3.02</td>\n",
       "      <td>3</td>\n",
       "      <td>0</td>\n",
       "      <td>5/15/2012</td>\n",
       "      <td>0</td>\n",
       "      <td>3</td>\n",
       "    </tr>\n",
       "    <tr>\n",
       "      <th>3</th>\n",
       "      <td>Alagbe,Trina</td>\n",
       "      <td>10088</td>\n",
       "      <td>1</td>\n",
       "      <td>1</td>\n",
       "      <td>0</td>\n",
       "      <td>1</td>\n",
       "      <td>5</td>\n",
       "      <td>3</td>\n",
       "      <td>0</td>\n",
       "      <td>64991</td>\n",
       "      <td>...</td>\n",
       "      <td>Elijiah Gray</td>\n",
       "      <td>16.0</td>\n",
       "      <td>Indeed</td>\n",
       "      <td>Fully Meets</td>\n",
       "      <td>4.84</td>\n",
       "      <td>5</td>\n",
       "      <td>0</td>\n",
       "      <td>1/3/2019</td>\n",
       "      <td>0</td>\n",
       "      <td>15</td>\n",
       "    </tr>\n",
       "    <tr>\n",
       "      <th>4</th>\n",
       "      <td>Anderson, Carol</td>\n",
       "      <td>10069</td>\n",
       "      <td>0</td>\n",
       "      <td>2</td>\n",
       "      <td>0</td>\n",
       "      <td>5</td>\n",
       "      <td>5</td>\n",
       "      <td>3</td>\n",
       "      <td>0</td>\n",
       "      <td>50825</td>\n",
       "      <td>...</td>\n",
       "      <td>Webster Butler</td>\n",
       "      <td>39.0</td>\n",
       "      <td>Google Search</td>\n",
       "      <td>Fully Meets</td>\n",
       "      <td>5.00</td>\n",
       "      <td>4</td>\n",
       "      <td>0</td>\n",
       "      <td>2/1/2016</td>\n",
       "      <td>0</td>\n",
       "      <td>2</td>\n",
       "    </tr>\n",
       "    <tr>\n",
       "      <th>5</th>\n",
       "      <td>Anderson, Linda</td>\n",
       "      <td>10002</td>\n",
       "      <td>0</td>\n",
       "      <td>0</td>\n",
       "      <td>0</td>\n",
       "      <td>1</td>\n",
       "      <td>5</td>\n",
       "      <td>4</td>\n",
       "      <td>0</td>\n",
       "      <td>57568</td>\n",
       "      <td>...</td>\n",
       "      <td>Amy Dunn</td>\n",
       "      <td>11.0</td>\n",
       "      <td>LinkedIn</td>\n",
       "      <td>Exceeds</td>\n",
       "      <td>5.00</td>\n",
       "      <td>5</td>\n",
       "      <td>0</td>\n",
       "      <td>1/7/2019</td>\n",
       "      <td>0</td>\n",
       "      <td>15</td>\n",
       "    </tr>\n",
       "    <tr>\n",
       "      <th>6</th>\n",
       "      <td>Andreola, Colby</td>\n",
       "      <td>10194</td>\n",
       "      <td>0</td>\n",
       "      <td>0</td>\n",
       "      <td>0</td>\n",
       "      <td>1</td>\n",
       "      <td>4</td>\n",
       "      <td>3</td>\n",
       "      <td>0</td>\n",
       "      <td>95660</td>\n",
       "      <td>...</td>\n",
       "      <td>Alex Sweetwater</td>\n",
       "      <td>10.0</td>\n",
       "      <td>LinkedIn</td>\n",
       "      <td>Fully Meets</td>\n",
       "      <td>3.04</td>\n",
       "      <td>3</td>\n",
       "      <td>4</td>\n",
       "      <td>1/2/2019</td>\n",
       "      <td>0</td>\n",
       "      <td>19</td>\n",
       "    </tr>\n",
       "    <tr>\n",
       "      <th>7</th>\n",
       "      <td>Athwal, Sam</td>\n",
       "      <td>10062</td>\n",
       "      <td>0</td>\n",
       "      <td>4</td>\n",
       "      <td>1</td>\n",
       "      <td>1</td>\n",
       "      <td>5</td>\n",
       "      <td>3</td>\n",
       "      <td>0</td>\n",
       "      <td>59365</td>\n",
       "      <td>...</td>\n",
       "      <td>Ketsia Liebig</td>\n",
       "      <td>19.0</td>\n",
       "      <td>Employee Referral</td>\n",
       "      <td>Fully Meets</td>\n",
       "      <td>5.00</td>\n",
       "      <td>4</td>\n",
       "      <td>0</td>\n",
       "      <td>2/25/2019</td>\n",
       "      <td>0</td>\n",
       "      <td>19</td>\n",
       "    </tr>\n",
       "    <tr>\n",
       "      <th>8</th>\n",
       "      <td>Bachiochi, Linda</td>\n",
       "      <td>10114</td>\n",
       "      <td>0</td>\n",
       "      <td>0</td>\n",
       "      <td>0</td>\n",
       "      <td>3</td>\n",
       "      <td>5</td>\n",
       "      <td>3</td>\n",
       "      <td>1</td>\n",
       "      <td>47837</td>\n",
       "      <td>...</td>\n",
       "      <td>Brannon Miller</td>\n",
       "      <td>12.0</td>\n",
       "      <td>Diversity Job Fair</td>\n",
       "      <td>Fully Meets</td>\n",
       "      <td>4.46</td>\n",
       "      <td>3</td>\n",
       "      <td>0</td>\n",
       "      <td>1/25/2019</td>\n",
       "      <td>0</td>\n",
       "      <td>4</td>\n",
       "    </tr>\n",
       "    <tr>\n",
       "      <th>9</th>\n",
       "      <td>Bacong, Alejandro</td>\n",
       "      <td>10250</td>\n",
       "      <td>0</td>\n",
       "      <td>2</td>\n",
       "      <td>1</td>\n",
       "      <td>1</td>\n",
       "      <td>3</td>\n",
       "      <td>3</td>\n",
       "      <td>0</td>\n",
       "      <td>50178</td>\n",
       "      <td>...</td>\n",
       "      <td>Peter Monroe</td>\n",
       "      <td>7.0</td>\n",
       "      <td>Indeed</td>\n",
       "      <td>Fully Meets</td>\n",
       "      <td>5.00</td>\n",
       "      <td>5</td>\n",
       "      <td>6</td>\n",
       "      <td>2/18/2019</td>\n",
       "      <td>0</td>\n",
       "      <td>16</td>\n",
       "    </tr>\n",
       "    <tr>\n",
       "      <th>10</th>\n",
       "      <td>Baczenski, Rachael</td>\n",
       "      <td>10252</td>\n",
       "      <td>1</td>\n",
       "      <td>1</td>\n",
       "      <td>0</td>\n",
       "      <td>5</td>\n",
       "      <td>5</td>\n",
       "      <td>3</td>\n",
       "      <td>1</td>\n",
       "      <td>54670</td>\n",
       "      <td>...</td>\n",
       "      <td>David Stanley</td>\n",
       "      <td>14.0</td>\n",
       "      <td>Diversity Job Fair</td>\n",
       "      <td>Fully Meets</td>\n",
       "      <td>4.20</td>\n",
       "      <td>4</td>\n",
       "      <td>0</td>\n",
       "      <td>1/30/2016</td>\n",
       "      <td>0</td>\n",
       "      <td>12</td>\n",
       "    </tr>\n",
       "  </tbody>\n",
       "</table>\n",
       "<p>11 rows × 36 columns</p>\n",
       "</div>"
      ],
      "text/plain": [
       "               Employee_Name  EmpID  MarriedID  MaritalStatusID  GenderID  \\\n",
       "0        Adinolfi, Wilson  K  10026          0                0         1   \n",
       "1   Ait Sidi, Karthikeyan     10084          1                1         1   \n",
       "2          Akinkuolie, Sarah  10196          1                1         0   \n",
       "3               Alagbe,Trina  10088          1                1         0   \n",
       "4           Anderson, Carol   10069          0                2         0   \n",
       "5          Anderson, Linda    10002          0                0         0   \n",
       "6            Andreola, Colby  10194          0                0         0   \n",
       "7                Athwal, Sam  10062          0                4         1   \n",
       "8           Bachiochi, Linda  10114          0                0         0   \n",
       "9         Bacong, Alejandro   10250          0                2         1   \n",
       "10      Baczenski, Rachael    10252          1                1         0   \n",
       "\n",
       "    EmpStatusID  DeptID  PerfScoreID  FromDiversityJobFairID  Salary  ...  \\\n",
       "0             1       5            4                       0   62506  ...   \n",
       "1             5       3            3                       0  104437  ...   \n",
       "2             5       5            3                       0   64955  ...   \n",
       "3             1       5            3                       0   64991  ...   \n",
       "4             5       5            3                       0   50825  ...   \n",
       "5             1       5            4                       0   57568  ...   \n",
       "6             1       4            3                       0   95660  ...   \n",
       "7             1       5            3                       0   59365  ...   \n",
       "8             3       5            3                       1   47837  ...   \n",
       "9             1       3            3                       0   50178  ...   \n",
       "10            5       5            3                       1   54670  ...   \n",
       "\n",
       "        ManagerName  ManagerID   RecruitmentSource PerformanceScore  \\\n",
       "0    Michael Albert       22.0            LinkedIn          Exceeds   \n",
       "1        Simon Roup        4.0              Indeed      Fully Meets   \n",
       "2    Kissy Sullivan       20.0            LinkedIn      Fully Meets   \n",
       "3      Elijiah Gray       16.0              Indeed      Fully Meets   \n",
       "4    Webster Butler       39.0       Google Search      Fully Meets   \n",
       "5          Amy Dunn       11.0            LinkedIn          Exceeds   \n",
       "6   Alex Sweetwater       10.0            LinkedIn      Fully Meets   \n",
       "7     Ketsia Liebig       19.0   Employee Referral      Fully Meets   \n",
       "8    Brannon Miller       12.0  Diversity Job Fair      Fully Meets   \n",
       "9      Peter Monroe        7.0              Indeed      Fully Meets   \n",
       "10    David Stanley       14.0  Diversity Job Fair      Fully Meets   \n",
       "\n",
       "    EngagementSurvey EmpSatisfaction SpecialProjectsCount  \\\n",
       "0               4.60               5                    0   \n",
       "1               4.96               3                    6   \n",
       "2               3.02               3                    0   \n",
       "3               4.84               5                    0   \n",
       "4               5.00               4                    0   \n",
       "5               5.00               5                    0   \n",
       "6               3.04               3                    4   \n",
       "7               5.00               4                    0   \n",
       "8               4.46               3                    0   \n",
       "9               5.00               5                    6   \n",
       "10              4.20               4                    0   \n",
       "\n",
       "   LastPerformanceReview_Date DaysLateLast30 Absences  \n",
       "0                   1/17/2019              0        1  \n",
       "1                   2/24/2016              0       17  \n",
       "2                   5/15/2012              0        3  \n",
       "3                    1/3/2019              0       15  \n",
       "4                    2/1/2016              0        2  \n",
       "5                    1/7/2019              0       15  \n",
       "6                    1/2/2019              0       19  \n",
       "7                   2/25/2019              0       19  \n",
       "8                   1/25/2019              0        4  \n",
       "9                   2/18/2019              0       16  \n",
       "10                  1/30/2016              0       12  \n",
       "\n",
       "[11 rows x 36 columns]"
      ]
     },
     "execution_count": 33,
     "metadata": {},
     "output_type": "execute_result"
    }
   ],
   "source": [
    "hr = pd.read_csv('HRDataset_v14.csv')\n",
    "hr.head(11)"
   ]
  },
  {
   "cell_type": "code",
   "execution_count": 34,
   "id": "34a48647",
   "metadata": {},
   "outputs": [
    {
     "name": "stdout",
     "output_type": "stream",
     "text": [
      "<class 'pandas.core.frame.DataFrame'>\n",
      "RangeIndex: 311 entries, 0 to 310\n",
      "Data columns (total 36 columns):\n",
      " #   Column                      Non-Null Count  Dtype  \n",
      "---  ------                      --------------  -----  \n",
      " 0   Employee_Name               311 non-null    object \n",
      " 1   EmpID                       311 non-null    int64  \n",
      " 2   MarriedID                   311 non-null    int64  \n",
      " 3   MaritalStatusID             311 non-null    int64  \n",
      " 4   GenderID                    311 non-null    int64  \n",
      " 5   EmpStatusID                 311 non-null    int64  \n",
      " 6   DeptID                      311 non-null    int64  \n",
      " 7   PerfScoreID                 311 non-null    int64  \n",
      " 8   FromDiversityJobFairID      311 non-null    int64  \n",
      " 9   Salary                      311 non-null    int64  \n",
      " 10  Termd                       311 non-null    int64  \n",
      " 11  PositionID                  311 non-null    int64  \n",
      " 12  Position                    311 non-null    object \n",
      " 13  State                       311 non-null    object \n",
      " 14  Zip                         311 non-null    int64  \n",
      " 15  DOB                         311 non-null    object \n",
      " 16  Sex                         311 non-null    object \n",
      " 17  MaritalDesc                 311 non-null    object \n",
      " 18  CitizenDesc                 311 non-null    object \n",
      " 19  HispanicLatino              311 non-null    object \n",
      " 20  RaceDesc                    311 non-null    object \n",
      " 21  DateofHire                  311 non-null    object \n",
      " 22  DateofTermination           104 non-null    object \n",
      " 23  TermReason                  311 non-null    object \n",
      " 24  EmploymentStatus            311 non-null    object \n",
      " 25  Department                  311 non-null    object \n",
      " 26  ManagerName                 311 non-null    object \n",
      " 27  ManagerID                   303 non-null    float64\n",
      " 28  RecruitmentSource           311 non-null    object \n",
      " 29  PerformanceScore            311 non-null    object \n",
      " 30  EngagementSurvey            311 non-null    float64\n",
      " 31  EmpSatisfaction             311 non-null    int64  \n",
      " 32  SpecialProjectsCount        311 non-null    int64  \n",
      " 33  LastPerformanceReview_Date  311 non-null    object \n",
      " 34  DaysLateLast30              311 non-null    int64  \n",
      " 35  Absences                    311 non-null    int64  \n",
      "dtypes: float64(2), int64(16), object(18)\n",
      "memory usage: 87.6+ KB\n"
     ]
    }
   ],
   "source": [
    "hr.info()"
   ]
  },
  {
   "cell_type": "code",
   "execution_count": 35,
   "id": "0a4b3052",
   "metadata": {},
   "outputs": [
    {
     "data": {
      "text/plain": [
       "207"
      ]
     },
     "execution_count": 35,
     "metadata": {},
     "output_type": "execute_result"
    }
   ],
   "source": [
    "hr.DateofTermination.isna().sum().sum()"
   ]
  },
  {
   "cell_type": "code",
   "execution_count": 36,
   "id": "1eb42e12",
   "metadata": {},
   "outputs": [
    {
     "data": {
      "text/plain": [
       "8"
      ]
     },
     "execution_count": 36,
     "metadata": {},
     "output_type": "execute_result"
    }
   ],
   "source": [
    "hr.ManagerID.isna().sum().sum()"
   ]
  },
  {
   "cell_type": "code",
   "execution_count": 58,
   "id": "5209627b",
   "metadata": {},
   "outputs": [],
   "source": [
    "# Conversión tipo de dato\n",
    "hr['LastPerformanceReview_Date'] = pd.to_datetime(hr['LastPerformanceReview_Date']) \n",
    "hr['DateofTermination'] = pd.to_datetime(hr['DateofTermination']) \n",
    "hr['DOB']=pd.to_datetime(hr['DOB'])"
   ]
  },
  {
   "cell_type": "markdown",
   "id": "903c9bd3",
   "metadata": {},
   "source": [
    "**Estadísticas descriptivas básicas** "
   ]
  },
  {
   "cell_type": "code",
   "execution_count": 37,
   "id": "386da313",
   "metadata": {},
   "outputs": [
    {
     "name": "stdout",
     "output_type": "stream",
     "text": [
      "La media del salario es 69021\n"
     ]
    }
   ],
   "source": [
    "# Media del salario\n",
    "Mediasalario=round(hr.Salary.mean())\n",
    "\n",
    "print(\"La media del salario es\",Mediasalario)"
   ]
  },
  {
   "cell_type": "code",
   "execution_count": 38,
   "id": "b4e47d0a",
   "metadata": {},
   "outputs": [
    {
     "name": "stdout",
     "output_type": "stream",
     "text": [
      "La mediana del salario es 62810\n"
     ]
    }
   ],
   "source": [
    "#Mediana del salario\n",
    "Mediansalario=round(hr.Salary.median())\n",
    "print(\"La mediana del salario es\",Mediansalario)"
   ]
  },
  {
   "cell_type": "code",
   "execution_count": 69,
   "id": "e25400d7",
   "metadata": {},
   "outputs": [
    {
     "data": {
      "text/plain": [
       "630821473.6306077"
      ]
     },
     "execution_count": 69,
     "metadata": {},
     "output_type": "execute_result"
    }
   ],
   "source": [
    "#Varianza del salrio\n",
    "Varsal=np.var(hr.Salary)\n",
    "Varsal"
   ]
  },
  {
   "cell_type": "code",
   "execution_count": 71,
   "id": "12dd1cd8",
   "metadata": {},
   "outputs": [
    {
     "data": {
      "text/plain": [
       "25116.16"
      ]
     },
     "execution_count": 71,
     "metadata": {},
     "output_type": "execute_result"
    }
   ],
   "source": [
    "#Desviacón estandar del salario\n",
    "DStdsalary=round(np.std(hr.Salary),2)\n",
    "DStdsalary"
   ]
  },
  {
   "cell_type": "code",
   "execution_count": 41,
   "id": "dafd5ffd",
   "metadata": {},
   "outputs": [
    {
     "data": {
      "text/plain": [
       "250000"
      ]
     },
     "execution_count": 41,
     "metadata": {},
     "output_type": "execute_result"
    }
   ],
   "source": [
    "#Salario máximo\n",
    "Maxsalary= hr['Salary'].max()\n",
    "Maxsalary"
   ]
  },
  {
   "cell_type": "code",
   "execution_count": 40,
   "id": "4dd45989",
   "metadata": {},
   "outputs": [
    {
     "data": {
      "text/plain": [
       "0    Indeed\n",
       "Name: RecruitmentSource, dtype: object"
      ]
     },
     "execution_count": 40,
     "metadata": {},
     "output_type": "execute_result"
    }
   ],
   "source": [
    "#Moda de fuente de contratación\n",
    "Modarecsource=hr.RecruitmentSource.mode()\n",
    "Modarecsource"
   ]
  },
  {
   "cell_type": "code",
   "execution_count": 54,
   "id": "a0154cf4",
   "metadata": {},
   "outputs": [
    {
     "data": {
      "text/plain": [
       "0    Production       \n",
       "Name: Department, dtype: object"
      ]
     },
     "execution_count": 54,
     "metadata": {},
     "output_type": "execute_result"
    }
   ],
   "source": [
    "#Moda de departamento\n",
    "Modadept=hr.Department.mode()\n",
    "Modadept"
   ]
  },
  {
   "cell_type": "code",
   "execution_count": 56,
   "id": "ed41e6a1",
   "metadata": {},
   "outputs": [
    {
     "data": {
      "text/plain": [
       "0    MA\n",
       "Name: State, dtype: object"
      ]
     },
     "execution_count": 56,
     "metadata": {},
     "output_type": "execute_result"
    }
   ],
   "source": [
    "#Moda de State\n",
    "Modastate = hr.State.mode()\n",
    "Modastate"
   ]
  },
  {
   "cell_type": "code",
   "execution_count": 68,
   "id": "c249f630",
   "metadata": {},
   "outputs": [
    {
     "data": {
      "text/plain": [
       "0    F\n",
       "Name: Sex, dtype: object"
      ]
     },
     "execution_count": 68,
     "metadata": {},
     "output_type": "execute_result"
    }
   ],
   "source": [
    "#Moda de género\n",
    "Modagen = hr.Sex.mode()\n",
    "Modagen"
   ]
  },
  {
   "cell_type": "markdown",
   "id": "95bf2112",
   "metadata": {},
   "source": [
    "**Histogramas**\n",
    "\n",
    "    - Salarios\n",
    "    - Rangos de salarios más populares"
   ]
  },
  {
   "cell_type": "code",
   "execution_count": 67,
   "id": "e741cce4",
   "metadata": {},
   "outputs": [
    {
     "data": {
      "text/plain": [
       "Text(0, 0.5, 'Frecuencia')"
      ]
     },
     "execution_count": 67,
     "metadata": {},
     "output_type": "execute_result"
    },
    {
     "data": {
      "image/png": "[encoded data removed]",
      "text/plain": [
       "<Figure size 1080x576 with 1 Axes>"
      ]
     },
     "metadata": {
      "needs_background": "light"
     },
     "output_type": "display_data"
    }
   ],
   "source": [
    "#Salarios\n",
    "fig, ax = plt.subplots(figsize=(15, 8))\n",
    "ax.hist(hr['Salary'].values.flatten(), bins=15, color='lightgreen')\n",
    "ax.set_title('Histograma de los salarios')\n",
    "ax.set(xticks=np.arange(50000, 250000,25000))\n",
    "ax.set_xlabel('Intervalos de los salarios')\n",
    "ax.set_ylabel('Frecuencia')"
   ]
  },
  {
   "cell_type": "markdown",
   "id": "814ab917",
   "metadata": {},
   "source": [
    "~~~\n",
    "Se puede observar que los salarios más populares se encuentran entre 45000 y 70000.\n",
    "~~~~"
   ]
  },
  {
   "cell_type": "markdown",
   "id": "a75fa8ef",
   "metadata": {},
   "source": [
    "**Gráfico violín con los salarios, discriminados por géneros**"
   ]
  },
  {
   "cell_type": "code",
   "execution_count": 43,
   "id": "fca6df0d",
   "metadata": {},
   "outputs": [
    {
     "data": {
      "text/plain": [
       "<seaborn.axisgrid.FacetGrid at 0x2e05e7e33a0>"
      ]
     },
     "execution_count": 43,
     "metadata": {},
     "output_type": "execute_result"
    },
    {
     "data": {
      "image/png": "[encoded data removed]",
      "text/plain": [
       "<Figure size 504x504 with 1 Axes>"
      ]
     },
     "metadata": {
      "needs_background": "light"
     },
     "output_type": "display_data"
    }
   ],
   "source": [
    "ax = sns.catplot(data= hr, kind='violin', x='Sex', y='Salary', split=True ,height=7)\n",
    "ax.set(xlabel='Género', ylabel='Salario', title='Salario por género')"
   ]
  },
  {
   "cell_type": "markdown",
   "id": "d863e28a",
   "metadata": {},
   "source": [
    "**Serie de tiempo correspondiente a la fecha de contratación (Data of Hire)**"
   ]
  },
  {
   "cell_type": "code",
   "execution_count": 44,
   "id": "00aa22aa",
   "metadata": {},
   "outputs": [
    {
     "data": {
      "text/plain": [
       "0     2011-07-05\n",
       "1     2015-03-30\n",
       "2     2011-07-05\n",
       "3     2008-01-07\n",
       "4     2011-07-11\n",
       "         ...    \n",
       "306   2014-07-07\n",
       "307   2008-09-02\n",
       "308   2010-04-10\n",
       "309   2015-03-30\n",
       "310   2014-09-29\n",
       "Name: DateofHire, Length: 311, dtype: datetime64[ns]"
      ]
     },
     "execution_count": 44,
     "metadata": {},
     "output_type": "execute_result"
    }
   ],
   "source": [
    "hr['DateofHire'] = pd.to_datetime(hr['DateofHire']) \n",
    "hr['DateofHire']"
   ]
  },
  {
   "cell_type": "code",
   "execution_count": 45,
   "id": "5a4e2c32",
   "metadata": {},
   "outputs": [
    {
     "data": {
      "text/html": [
       "<div>\n",
       "<style scoped>\n",
       "    .dataframe tbody tr th:only-of-type {\n",
       "        vertical-align: middle;\n",
       "    }\n",
       "\n",
       "    .dataframe tbody tr th {\n",
       "        vertical-align: top;\n",
       "    }\n",
       "\n",
       "    .dataframe thead th {\n",
       "        text-align: right;\n",
       "    }\n",
       "</style>\n",
       "<table border=\"1\" class=\"dataframe\">\n",
       "  <thead>\n",
       "    <tr style=\"text-align: right;\">\n",
       "      <th></th>\n",
       "      <th>Employee_Name</th>\n",
       "    </tr>\n",
       "    <tr>\n",
       "      <th>DateofHire</th>\n",
       "      <th></th>\n",
       "    </tr>\n",
       "  </thead>\n",
       "  <tbody>\n",
       "    <tr>\n",
       "      <th>2006-01-09</th>\n",
       "      <td>1</td>\n",
       "    </tr>\n",
       "    <tr>\n",
       "      <th>2007-06-25</th>\n",
       "      <td>1</td>\n",
       "    </tr>\n",
       "    <tr>\n",
       "      <th>2007-11-05</th>\n",
       "      <td>1</td>\n",
       "    </tr>\n",
       "    <tr>\n",
       "      <th>2008-01-07</th>\n",
       "      <td>1</td>\n",
       "    </tr>\n",
       "    <tr>\n",
       "      <th>2008-09-02</th>\n",
       "      <td>1</td>\n",
       "    </tr>\n",
       "    <tr>\n",
       "      <th>...</th>\n",
       "      <td>...</td>\n",
       "    </tr>\n",
       "    <tr>\n",
       "      <th>2017-01-07</th>\n",
       "      <td>1</td>\n",
       "    </tr>\n",
       "    <tr>\n",
       "      <th>2017-02-10</th>\n",
       "      <td>1</td>\n",
       "    </tr>\n",
       "    <tr>\n",
       "      <th>2017-02-15</th>\n",
       "      <td>2</td>\n",
       "    </tr>\n",
       "    <tr>\n",
       "      <th>2017-04-20</th>\n",
       "      <td>2</td>\n",
       "    </tr>\n",
       "    <tr>\n",
       "      <th>2018-07-09</th>\n",
       "      <td>1</td>\n",
       "    </tr>\n",
       "  </tbody>\n",
       "</table>\n",
       "<p>101 rows × 1 columns</p>\n",
       "</div>"
      ],
      "text/plain": [
       "            Employee_Name\n",
       "DateofHire               \n",
       "2006-01-09              1\n",
       "2007-06-25              1\n",
       "2007-11-05              1\n",
       "2008-01-07              1\n",
       "2008-09-02              1\n",
       "...                   ...\n",
       "2017-01-07              1\n",
       "2017-02-10              1\n",
       "2017-02-15              2\n",
       "2017-04-20              2\n",
       "2018-07-09              1\n",
       "\n",
       "[101 rows x 1 columns]"
      ]
     },
     "execution_count": 45,
     "metadata": {},
     "output_type": "execute_result"
    }
   ],
   "source": [
    "empleados =pd.DataFrame(hr.groupby(hr['DateofHire']).count()[\"Employee_Name\"])\n",
    "empleados"
   ]
  },
  {
   "cell_type": "code",
   "execution_count": 46,
   "id": "b98a3ca3",
   "metadata": {},
   "outputs": [
    {
     "data": {
      "text/plain": [
       "DatetimeIndex(['2006-01-09', '2007-06-25', '2007-11-05', '2008-01-07',\n",
       "               '2008-09-02', '2008-10-27', '2009-01-05', '2009-01-08',\n",
       "               '2009-04-27', '2009-07-06',\n",
       "               ...\n",
       "               '2016-07-04', '2016-07-06', '2016-07-21', '2016-09-06',\n",
       "               '2016-10-02', '2017-01-07', '2017-02-10', '2017-02-15',\n",
       "               '2017-04-20', '2018-07-09'],\n",
       "              dtype='datetime64[ns]', name='DateofHire', length=101, freq=None)"
      ]
     },
     "execution_count": 46,
     "metadata": {},
     "output_type": "execute_result"
    }
   ],
   "source": [
    "x=empleados.index\n",
    "x"
   ]
  },
  {
   "cell_type": "code",
   "execution_count": 47,
   "id": "42fa1a64",
   "metadata": {},
   "outputs": [
    {
     "data": {
      "text/plain": [
       "DateofHire\n",
       "2006-01-09    1\n",
       "2007-06-25    1\n",
       "2007-11-05    1\n",
       "2008-01-07    1\n",
       "2008-09-02    1\n",
       "             ..\n",
       "2017-01-07    1\n",
       "2017-02-10    1\n",
       "2017-02-15    2\n",
       "2017-04-20    2\n",
       "2018-07-09    1\n",
       "Name: Employee_Name, Length: 101, dtype: int64"
      ]
     },
     "execution_count": 47,
     "metadata": {},
     "output_type": "execute_result"
    }
   ],
   "source": [
    "y=empleados.Employee_Name\n",
    "y"
   ]
  },
  {
   "cell_type": "code",
   "execution_count": 60,
   "id": "045a7841",
   "metadata": {},
   "outputs": [
    {
     "data": {
      "text/plain": [
       "Text(0.5, 1.0, 'Cantidad de empleados contratados por fecha')"
      ]
     },
     "execution_count": 60,
     "metadata": {},
     "output_type": "execute_result"
    },
    {
     "data": {
      "image/png": "[encoded data removed]",
      "text/plain": [
       "<Figure size 1440x576 with 1 Axes>"
      ]
     },
     "metadata": {
      "needs_background": "light"
     },
     "output_type": "display_data"
    }
   ],
   "source": [
    "fig, ax = plt.subplots(figsize=(20, 8))\n",
    "ax.plot(x, y)\n",
    "ax.set_xlabel('Fecha de contratación')\n",
    "ax.set_ylabel('Cantidad de empleados')\n",
    "ax.set_title('Cantidad de empleados contratados por fecha')"
   ]
  }
 ],
 "metadata": {
  "kernelspec": {
   "display_name": "coderhouse",
   "language": "python",
   "name": "coderhouse"
  },
  "language_info": {
   "codemirror_mode": {
    "name": "ipython",
    "version": 3
   },
   "file_extension": ".py",
   "mimetype": "text/x-python",
   "name": "python",
   "nbconvert_exporter": "python",
   "pygments_lexer": "ipython3",
   "version": "3.9.7"
  }
 },
 "nbformat": 4,
 "nbformat_minor": 5
}
