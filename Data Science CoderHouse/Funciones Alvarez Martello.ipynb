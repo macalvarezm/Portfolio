{
 "cells": [
  {
   "cell_type": "code",
   "execution_count": 1,
   "id": "bdb43f45",
   "metadata": {},
   "outputs": [
    {
     "name": "stdout",
     "output_type": "stream",
     "text": [
      "El factorial de 4 is 24\n"
     ]
    }
   ],
   "source": [
    "def factorial(num): \n",
    "    if num < 0: \n",
    "        print(\"No existe el factorial de un número negativo\")\n",
    "\n",
    "    elif num == 0: \n",
    "        return 1\n",
    "        \n",
    "    else: \n",
    "        fact = 1\n",
    "        while(num > 1): \n",
    "            fact *= num \n",
    "            num -= 1\n",
    "        return fact \n",
    "\n",
    "num = 4; \n",
    "\n",
    "print(\"El factorial de\",num,\"is\", factorial(num)) "
   ]
  },
  {
   "cell_type": "code",
   "execution_count": 1,
   "id": "2522a83c",
   "metadata": {},
   "outputs": [
    {
     "name": "stdout",
     "output_type": "stream",
     "text": [
      "La sumatoria es 15\n"
     ]
    }
   ],
   "source": [
    "def sumatoria(m,n):\n",
    "    sumatoria = 0\n",
    "    \n",
    "    if m>n:\n",
    "        print(\"El número final tiene que ser mayor que el inicial\")\n",
    "        \n",
    "    else:\n",
    "\n",
    "        for valor in range (m, n):\n",
    "            sumatoria = sumatoria + valor\n",
    "            \n",
    "        \n",
    "        sumatoria += n\n",
    "        print(\"La sumatoria es\", sumatoria)\n",
    "m=1\n",
    "n=5\n",
    "sumatoria(m,n)"
   ]
  }
 ],
 "metadata": {
  "kernelspec": {
   "display_name": "Python 3 (ipykernel)",
   "language": "python",
   "name": "python3"
  },
  "language_info": {
   "codemirror_mode": {
    "name": "ipython",
    "version": 3
   },
   "file_extension": ".py",
   "mimetype": "text/x-python",
   "name": "python",
   "nbconvert_exporter": "python",
   "pygments_lexer": "ipython3",
   "version": "3.9.7"
  }
 },
 "nbformat": 4,
 "nbformat_minor": 5
}
