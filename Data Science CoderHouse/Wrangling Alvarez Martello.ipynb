{
 "cells": [
  {
   "cell_type": "code",
   "execution_count": 8,
   "id": "20dc32f8",
   "metadata": {},
   "outputs": [],
   "source": [
    "import pandas as pd "
   ]
  },
  {
   "cell_type": "code",
   "execution_count": 11,
   "id": "a63697ae",
   "metadata": {},
   "outputs": [],
   "source": [
    "p= pd.read_csv('p_data.csv',delimiter=';')\n",
    "w= pd.read_csv('w_data.csv', delimiter=';')"
   ]
  },
  {
   "cell_type": "code",
   "execution_count": 12,
   "id": "767b6433",
   "metadata": {},
   "outputs": [
    {
     "data": {
      "text/html": [
       "<div>\n",
       "<style scoped>\n",
       "    .dataframe tbody tr th:only-of-type {\n",
       "        vertical-align: middle;\n",
       "    }\n",
       "\n",
       "    .dataframe tbody tr th {\n",
       "        vertical-align: top;\n",
       "    }\n",
       "\n",
       "    .dataframe thead th {\n",
       "        text-align: right;\n",
       "    }\n",
       "</style>\n",
       "<table border=\"1\" class=\"dataframe\">\n",
       "  <thead>\n",
       "    <tr style=\"text-align: right;\">\n",
       "      <th></th>\n",
       "      <th>Age</th>\n",
       "      <th>Sex</th>\n",
       "      <th>ID</th>\n",
       "      <th>Race</th>\n",
       "      <th>Country</th>\n",
       "      <th>Education</th>\n",
       "      <th>Education-Num</th>\n",
       "      <th>Marital Status</th>\n",
       "      <th>Relationship</th>\n",
       "    </tr>\n",
       "  </thead>\n",
       "  <tbody>\n",
       "    <tr>\n",
       "      <th>0</th>\n",
       "      <td>39.0</td>\n",
       "      <td>Male</td>\n",
       "      <td>49084</td>\n",
       "      <td>White</td>\n",
       "      <td>United-States</td>\n",
       "      <td>Bachelors</td>\n",
       "      <td>13.0</td>\n",
       "      <td>Never-married</td>\n",
       "      <td>Not-in-family</td>\n",
       "    </tr>\n",
       "    <tr>\n",
       "      <th>1</th>\n",
       "      <td>50.0</td>\n",
       "      <td>Male</td>\n",
       "      <td>68553</td>\n",
       "      <td>White</td>\n",
       "      <td>United-States</td>\n",
       "      <td>Bachelors</td>\n",
       "      <td>13.0</td>\n",
       "      <td>Married-civ-spouse</td>\n",
       "      <td>Husband</td>\n",
       "    </tr>\n",
       "    <tr>\n",
       "      <th>2</th>\n",
       "      <td>38.0</td>\n",
       "      <td>Male</td>\n",
       "      <td>143654</td>\n",
       "      <td>White</td>\n",
       "      <td>United-States</td>\n",
       "      <td>HS-grad</td>\n",
       "      <td>9.0</td>\n",
       "      <td>Divorced</td>\n",
       "      <td>Not-in-family</td>\n",
       "    </tr>\n",
       "    <tr>\n",
       "      <th>3</th>\n",
       "      <td>53.0</td>\n",
       "      <td>Male</td>\n",
       "      <td>41510</td>\n",
       "      <td>Black</td>\n",
       "      <td>United-States</td>\n",
       "      <td>11th</td>\n",
       "      <td>7.0</td>\n",
       "      <td>Married-civ-spouse</td>\n",
       "      <td>Husband</td>\n",
       "    </tr>\n",
       "    <tr>\n",
       "      <th>4</th>\n",
       "      <td>28.0</td>\n",
       "      <td>Female</td>\n",
       "      <td>195025</td>\n",
       "      <td>Black</td>\n",
       "      <td>Cuba</td>\n",
       "      <td>Bachelors</td>\n",
       "      <td>13.0</td>\n",
       "      <td>Married-civ-spouse</td>\n",
       "      <td>Wife</td>\n",
       "    </tr>\n",
       "  </tbody>\n",
       "</table>\n",
       "</div>"
      ],
      "text/plain": [
       "    Age      Sex      ID    Race         Country   Education  Education-Num  \\\n",
       "0  39.0     Male   49084   White   United-States   Bachelors           13.0   \n",
       "1  50.0     Male   68553   White   United-States   Bachelors           13.0   \n",
       "2  38.0     Male  143654   White   United-States     HS-grad            9.0   \n",
       "3  53.0     Male   41510   Black   United-States        11th            7.0   \n",
       "4  28.0   Female  195025   Black            Cuba   Bachelors           13.0   \n",
       "\n",
       "        Marital Status    Relationship  \n",
       "0        Never-married   Not-in-family  \n",
       "1   Married-civ-spouse         Husband  \n",
       "2             Divorced   Not-in-family  \n",
       "3   Married-civ-spouse         Husband  \n",
       "4   Married-civ-spouse            Wife  "
      ]
     },
     "execution_count": 12,
     "metadata": {},
     "output_type": "execute_result"
    }
   ],
   "source": [
    "p.head()"
   ]
  },
  {
   "cell_type": "code",
   "execution_count": 13,
   "id": "d95e3bf6",
   "metadata": {},
   "outputs": [
    {
     "data": {
      "text/html": [
       "<div>\n",
       "<style scoped>\n",
       "    .dataframe tbody tr th:only-of-type {\n",
       "        vertical-align: middle;\n",
       "    }\n",
       "\n",
       "    .dataframe tbody tr th {\n",
       "        vertical-align: top;\n",
       "    }\n",
       "\n",
       "    .dataframe thead th {\n",
       "        text-align: right;\n",
       "    }\n",
       "</style>\n",
       "<table border=\"1\" class=\"dataframe\">\n",
       "  <thead>\n",
       "    <tr style=\"text-align: right;\">\n",
       "      <th></th>\n",
       "      <th>Workclass</th>\n",
       "      <th>fnlwgt</th>\n",
       "      <th>Capital Gain</th>\n",
       "      <th>Capital Loss</th>\n",
       "      <th>Hours per week</th>\n",
       "      <th>ID</th>\n",
       "      <th>Target</th>\n",
       "    </tr>\n",
       "  </thead>\n",
       "  <tbody>\n",
       "    <tr>\n",
       "      <th>0</th>\n",
       "      <td>State-gov</td>\n",
       "      <td>77516.0</td>\n",
       "      <td>2174.0</td>\n",
       "      <td>0.0</td>\n",
       "      <td>40.0</td>\n",
       "      <td>49084</td>\n",
       "      <td>&lt;=50K</td>\n",
       "    </tr>\n",
       "    <tr>\n",
       "      <th>1</th>\n",
       "      <td>Self-emp-not-inc</td>\n",
       "      <td>83311.0</td>\n",
       "      <td>0.0</td>\n",
       "      <td>0.0</td>\n",
       "      <td>13.0</td>\n",
       "      <td>68553</td>\n",
       "      <td>&lt;=50K</td>\n",
       "    </tr>\n",
       "    <tr>\n",
       "      <th>2</th>\n",
       "      <td>Private</td>\n",
       "      <td>215646.0</td>\n",
       "      <td>0.0</td>\n",
       "      <td>0.0</td>\n",
       "      <td>40.0</td>\n",
       "      <td>143654</td>\n",
       "      <td>&lt;=50K</td>\n",
       "    </tr>\n",
       "    <tr>\n",
       "      <th>3</th>\n",
       "      <td>Private</td>\n",
       "      <td>234721.0</td>\n",
       "      <td>0.0</td>\n",
       "      <td>0.0</td>\n",
       "      <td>40.0</td>\n",
       "      <td>41510</td>\n",
       "      <td>&lt;=50K</td>\n",
       "    </tr>\n",
       "    <tr>\n",
       "      <th>4</th>\n",
       "      <td>Private</td>\n",
       "      <td>338409.0</td>\n",
       "      <td>0.0</td>\n",
       "      <td>0.0</td>\n",
       "      <td>40.0</td>\n",
       "      <td>195025</td>\n",
       "      <td>&lt;=50K</td>\n",
       "    </tr>\n",
       "  </tbody>\n",
       "</table>\n",
       "</div>"
      ],
      "text/plain": [
       "           Workclass    fnlwgt  Capital Gain  Capital Loss  Hours per week  \\\n",
       "0          State-gov   77516.0        2174.0           0.0            40.0   \n",
       "1   Self-emp-not-inc   83311.0           0.0           0.0            13.0   \n",
       "2            Private  215646.0           0.0           0.0            40.0   \n",
       "3            Private  234721.0           0.0           0.0            40.0   \n",
       "4            Private  338409.0           0.0           0.0            40.0   \n",
       "\n",
       "       ID  Target  \n",
       "0   49084   <=50K  \n",
       "1   68553   <=50K  \n",
       "2  143654   <=50K  \n",
       "3   41510   <=50K  \n",
       "4  195025   <=50K  "
      ]
     },
     "execution_count": 13,
     "metadata": {},
     "output_type": "execute_result"
    }
   ],
   "source": [
    "w.head()"
   ]
  },
  {
   "cell_type": "code",
   "execution_count": 14,
   "id": "f1b4cc21",
   "metadata": {},
   "outputs": [
    {
     "data": {
      "text/html": [
       "<div>\n",
       "<style scoped>\n",
       "    .dataframe tbody tr th:only-of-type {\n",
       "        vertical-align: middle;\n",
       "    }\n",
       "\n",
       "    .dataframe tbody tr th {\n",
       "        vertical-align: top;\n",
       "    }\n",
       "\n",
       "    .dataframe thead th {\n",
       "        text-align: right;\n",
       "    }\n",
       "</style>\n",
       "<table border=\"1\" class=\"dataframe\">\n",
       "  <thead>\n",
       "    <tr style=\"text-align: right;\">\n",
       "      <th></th>\n",
       "      <th>Workclass</th>\n",
       "      <th>fnlwgt</th>\n",
       "      <th>Capital Gain</th>\n",
       "      <th>Capital Loss</th>\n",
       "      <th>Hours per week</th>\n",
       "      <th>ID</th>\n",
       "      <th>Target</th>\n",
       "      <th>Age</th>\n",
       "      <th>Sex</th>\n",
       "      <th>Race</th>\n",
       "      <th>Country</th>\n",
       "      <th>Education</th>\n",
       "      <th>Education-Num</th>\n",
       "      <th>Marital Status</th>\n",
       "      <th>Relationship</th>\n",
       "    </tr>\n",
       "  </thead>\n",
       "  <tbody>\n",
       "    <tr>\n",
       "      <th>0</th>\n",
       "      <td>State-gov</td>\n",
       "      <td>77516.0</td>\n",
       "      <td>2174.0</td>\n",
       "      <td>0.0</td>\n",
       "      <td>40.0</td>\n",
       "      <td>49084</td>\n",
       "      <td>&lt;=50K</td>\n",
       "      <td>39.0</td>\n",
       "      <td>Male</td>\n",
       "      <td>White</td>\n",
       "      <td>United-States</td>\n",
       "      <td>Bachelors</td>\n",
       "      <td>13.0</td>\n",
       "      <td>Never-married</td>\n",
       "      <td>Not-in-family</td>\n",
       "    </tr>\n",
       "    <tr>\n",
       "      <th>1</th>\n",
       "      <td>Self-emp-not-inc</td>\n",
       "      <td>83311.0</td>\n",
       "      <td>0.0</td>\n",
       "      <td>0.0</td>\n",
       "      <td>13.0</td>\n",
       "      <td>68553</td>\n",
       "      <td>&lt;=50K</td>\n",
       "      <td>50.0</td>\n",
       "      <td>Male</td>\n",
       "      <td>White</td>\n",
       "      <td>United-States</td>\n",
       "      <td>Bachelors</td>\n",
       "      <td>13.0</td>\n",
       "      <td>Married-civ-spouse</td>\n",
       "      <td>Husband</td>\n",
       "    </tr>\n",
       "    <tr>\n",
       "      <th>2</th>\n",
       "      <td>Private</td>\n",
       "      <td>215646.0</td>\n",
       "      <td>0.0</td>\n",
       "      <td>0.0</td>\n",
       "      <td>40.0</td>\n",
       "      <td>143654</td>\n",
       "      <td>&lt;=50K</td>\n",
       "      <td>38.0</td>\n",
       "      <td>Male</td>\n",
       "      <td>White</td>\n",
       "      <td>United-States</td>\n",
       "      <td>HS-grad</td>\n",
       "      <td>9.0</td>\n",
       "      <td>Divorced</td>\n",
       "      <td>Not-in-family</td>\n",
       "    </tr>\n",
       "    <tr>\n",
       "      <th>3</th>\n",
       "      <td>Private</td>\n",
       "      <td>234721.0</td>\n",
       "      <td>0.0</td>\n",
       "      <td>0.0</td>\n",
       "      <td>40.0</td>\n",
       "      <td>41510</td>\n",
       "      <td>&lt;=50K</td>\n",
       "      <td>53.0</td>\n",
       "      <td>Male</td>\n",
       "      <td>Black</td>\n",
       "      <td>United-States</td>\n",
       "      <td>11th</td>\n",
       "      <td>7.0</td>\n",
       "      <td>Married-civ-spouse</td>\n",
       "      <td>Husband</td>\n",
       "    </tr>\n",
       "    <tr>\n",
       "      <th>4</th>\n",
       "      <td>Private</td>\n",
       "      <td>338409.0</td>\n",
       "      <td>0.0</td>\n",
       "      <td>0.0</td>\n",
       "      <td>40.0</td>\n",
       "      <td>195025</td>\n",
       "      <td>&lt;=50K</td>\n",
       "      <td>28.0</td>\n",
       "      <td>Female</td>\n",
       "      <td>Black</td>\n",
       "      <td>Cuba</td>\n",
       "      <td>Bachelors</td>\n",
       "      <td>13.0</td>\n",
       "      <td>Married-civ-spouse</td>\n",
       "      <td>Wife</td>\n",
       "    </tr>\n",
       "  </tbody>\n",
       "</table>\n",
       "</div>"
      ],
      "text/plain": [
       "           Workclass    fnlwgt  Capital Gain  Capital Loss  Hours per week  \\\n",
       "0          State-gov   77516.0        2174.0           0.0            40.0   \n",
       "1   Self-emp-not-inc   83311.0           0.0           0.0            13.0   \n",
       "2            Private  215646.0           0.0           0.0            40.0   \n",
       "3            Private  234721.0           0.0           0.0            40.0   \n",
       "4            Private  338409.0           0.0           0.0            40.0   \n",
       "\n",
       "       ID  Target   Age      Sex    Race         Country   Education  \\\n",
       "0   49084   <=50K  39.0     Male   White   United-States   Bachelors   \n",
       "1   68553   <=50K  50.0     Male   White   United-States   Bachelors   \n",
       "2  143654   <=50K  38.0     Male   White   United-States     HS-grad   \n",
       "3   41510   <=50K  53.0     Male   Black   United-States        11th   \n",
       "4  195025   <=50K  28.0   Female   Black            Cuba   Bachelors   \n",
       "\n",
       "   Education-Num       Marital Status    Relationship  \n",
       "0           13.0        Never-married   Not-in-family  \n",
       "1           13.0   Married-civ-spouse         Husband  \n",
       "2            9.0             Divorced   Not-in-family  \n",
       "3            7.0   Married-civ-spouse         Husband  \n",
       "4           13.0   Married-civ-spouse            Wife  "
      ]
     },
     "execution_count": 14,
     "metadata": {},
     "output_type": "execute_result"
    }
   ],
   "source": [
    "A= pd.merge(w,p,on=\"ID\")\n",
    "A.head()"
   ]
  },
  {
   "cell_type": "markdown",
   "id": "6fd5ce88",
   "metadata": {},
   "source": [
    "Cantidad de ID en común"
   ]
  },
  {
   "cell_type": "code",
   "execution_count": 15,
   "id": "ad271f2d",
   "metadata": {},
   "outputs": [
    {
     "data": {
      "text/plain": [
       "48842"
      ]
     },
     "execution_count": 15,
     "metadata": {},
     "output_type": "execute_result"
    }
   ],
   "source": [
    "len(A.value_counts('ID'))"
   ]
  },
  {
   "cell_type": "markdown",
   "id": "a99c8251",
   "metadata": {},
   "source": [
    "Targets"
   ]
  },
  {
   "cell_type": "code",
   "execution_count": 16,
   "id": "ee3acdf9",
   "metadata": {},
   "outputs": [
    {
     "data": {
      "text/plain": [
       "array([' <=50K', ' >50K', nan, ' <=50K.', ' >50K.'], dtype=object)"
      ]
     },
     "execution_count": 16,
     "metadata": {},
     "output_type": "execute_result"
    }
   ],
   "source": [
    "A.Target.unique()"
   ]
  },
  {
   "cell_type": "code",
   "execution_count": 23,
   "id": "06c2580d",
   "metadata": {},
   "outputs": [],
   "source": [
    "A.Target.replace([' <=50K',' <=50K.'], '<=50K', inplace = True)\n",
    "A.Target.replace([' >50K',' >50K.'], '>50K', inplace = True)"
   ]
  },
  {
   "cell_type": "code",
   "execution_count": 24,
   "id": "07cba86b",
   "metadata": {},
   "outputs": [
    {
     "data": {
      "text/plain": [
       "array(['<=50K', '>50K', nan], dtype=object)"
      ]
     },
     "execution_count": 24,
     "metadata": {},
     "output_type": "execute_result"
    }
   ],
   "source": [
    "A.Target.unique()"
   ]
  },
  {
   "cell_type": "code",
   "execution_count": 25,
   "id": "19732cc5",
   "metadata": {},
   "outputs": [
    {
     "data": {
      "text/plain": [
       "<=50K    37155\n",
       ">50K     11686\n",
       "Name: Target, dtype: int64"
      ]
     },
     "execution_count": 25,
     "metadata": {},
     "output_type": "execute_result"
    }
   ],
   "source": [
    "A.Target.value_counts()"
   ]
  },
  {
   "cell_type": "markdown",
   "id": "cc53f018",
   "metadata": {},
   "source": [
    "Proporciones"
   ]
  },
  {
   "cell_type": "code",
   "execution_count": 26,
   "id": "d450d0e4",
   "metadata": {},
   "outputs": [
    {
     "data": {
      "text/html": [
       "<div>\n",
       "<style scoped>\n",
       "    .dataframe tbody tr th:only-of-type {\n",
       "        vertical-align: middle;\n",
       "    }\n",
       "\n",
       "    .dataframe tbody tr th {\n",
       "        vertical-align: top;\n",
       "    }\n",
       "\n",
       "    .dataframe thead th {\n",
       "        text-align: right;\n",
       "    }\n",
       "</style>\n",
       "<table border=\"1\" class=\"dataframe\">\n",
       "  <thead>\n",
       "    <tr style=\"text-align: right;\">\n",
       "      <th></th>\n",
       "      <th>Target</th>\n",
       "      <th>count</th>\n",
       "      <th>Porcentaje</th>\n",
       "    </tr>\n",
       "  </thead>\n",
       "  <tbody>\n",
       "    <tr>\n",
       "      <th>0</th>\n",
       "      <td>&lt;=50K</td>\n",
       "      <td>37155</td>\n",
       "      <td>76.073381</td>\n",
       "    </tr>\n",
       "    <tr>\n",
       "      <th>1</th>\n",
       "      <td>&gt;50K</td>\n",
       "      <td>11686</td>\n",
       "      <td>23.926619</td>\n",
       "    </tr>\n",
       "  </tbody>\n",
       "</table>\n",
       "</div>"
      ],
      "text/plain": [
       "  Target  count  Porcentaje\n",
       "0  <=50K  37155   76.073381\n",
       "1   >50K  11686   23.926619"
      ]
     },
     "execution_count": 26,
     "metadata": {},
     "output_type": "execute_result"
    }
   ],
   "source": [
    "Agrouptarget = A.Target.groupby(A.Target).count().reset_index(name = 'count')\n",
    "Agrouptarget['Porcentaje'] = (Agrouptarget['count']/Agrouptarget['count'].sum())*100\n",
    "Agrouptarget.head()"
   ]
  },
  {
   "cell_type": "markdown",
   "id": "53304877",
   "metadata": {},
   "source": [
    "Menor a 50"
   ]
  },
  {
   "cell_type": "code",
   "execution_count": 27,
   "id": "948ded13",
   "metadata": {},
   "outputs": [],
   "source": [
    "filtro = ['>50K']"
   ]
  },
  {
   "cell_type": "code",
   "execution_count": 29,
   "id": "795de2bb",
   "metadata": {},
   "outputs": [
    {
     "data": {
      "text/html": [
       "<div>\n",
       "<style scoped>\n",
       "    .dataframe tbody tr th:only-of-type {\n",
       "        vertical-align: middle;\n",
       "    }\n",
       "\n",
       "    .dataframe tbody tr th {\n",
       "        vertical-align: top;\n",
       "    }\n",
       "\n",
       "    .dataframe thead th {\n",
       "        text-align: right;\n",
       "    }\n",
       "</style>\n",
       "<table border=\"1\" class=\"dataframe\">\n",
       "  <thead>\n",
       "    <tr style=\"text-align: right;\">\n",
       "      <th></th>\n",
       "      <th>Sex</th>\n",
       "      <th>Target</th>\n",
       "      <th>count</th>\n",
       "      <th>Porcentaje</th>\n",
       "    </tr>\n",
       "  </thead>\n",
       "  <tbody>\n",
       "    <tr>\n",
       "      <th>1</th>\n",
       "      <td>Female</td>\n",
       "      <td>&gt;50K</td>\n",
       "      <td>1769</td>\n",
       "      <td>3.621957</td>\n",
       "    </tr>\n",
       "    <tr>\n",
       "      <th>3</th>\n",
       "      <td>Male</td>\n",
       "      <td>&gt;50K</td>\n",
       "      <td>9917</td>\n",
       "      <td>20.304662</td>\n",
       "    </tr>\n",
       "  </tbody>\n",
       "</table>\n",
       "</div>"
      ],
      "text/plain": [
       "       Sex Target  count  Porcentaje\n",
       "1   Female   >50K   1769    3.621957\n",
       "3     Male   >50K   9917   20.304662"
      ]
     },
     "execution_count": 29,
     "metadata": {},
     "output_type": "execute_result"
    }
   ],
   "source": [
    "Agsex = A[['Target','Sex']]\n",
    "Agsex = Agsex.groupby(['Sex','Target']).size().reset_index(name= 'count')\n",
    "Agsex['Porcentaje'] = (Agsex['count'] / Agsex['count'].sum())*100\n",
    "Agsex = Agsex[Agsex['Target'].isin(filtro)]\n",
    "Agsex.head()"
   ]
  },
  {
   "cell_type": "code",
   "execution_count": 30,
   "id": "53e7c82f",
   "metadata": {},
   "outputs": [
    {
     "data": {
      "text/html": [
       "<div>\n",
       "<style scoped>\n",
       "    .dataframe tbody tr th:only-of-type {\n",
       "        vertical-align: middle;\n",
       "    }\n",
       "\n",
       "    .dataframe tbody tr th {\n",
       "        vertical-align: top;\n",
       "    }\n",
       "\n",
       "    .dataframe thead th {\n",
       "        text-align: right;\n",
       "    }\n",
       "</style>\n",
       "<table border=\"1\" class=\"dataframe\">\n",
       "  <thead>\n",
       "    <tr style=\"text-align: right;\">\n",
       "      <th></th>\n",
       "      <th>Race</th>\n",
       "      <th>Target</th>\n",
       "      <th>count</th>\n",
       "      <th>Porcentaje</th>\n",
       "    </tr>\n",
       "  </thead>\n",
       "  <tbody>\n",
       "    <tr>\n",
       "      <th>1</th>\n",
       "      <td>Amer-Indian-Eskimo</td>\n",
       "      <td>&gt;50K</td>\n",
       "      <td>55</td>\n",
       "      <td>0.112610</td>\n",
       "    </tr>\n",
       "    <tr>\n",
       "      <th>3</th>\n",
       "      <td>Asian-Pac-Islander</td>\n",
       "      <td>&gt;50K</td>\n",
       "      <td>409</td>\n",
       "      <td>0.837411</td>\n",
       "    </tr>\n",
       "    <tr>\n",
       "      <th>5</th>\n",
       "      <td>Black</td>\n",
       "      <td>&gt;50K</td>\n",
       "      <td>566</td>\n",
       "      <td>1.158862</td>\n",
       "    </tr>\n",
       "    <tr>\n",
       "      <th>7</th>\n",
       "      <td>Other</td>\n",
       "      <td>&gt;50K</td>\n",
       "      <td>50</td>\n",
       "      <td>0.102373</td>\n",
       "    </tr>\n",
       "    <tr>\n",
       "      <th>9</th>\n",
       "      <td>White</td>\n",
       "      <td>&gt;50K</td>\n",
       "      <td>10606</td>\n",
       "      <td>21.715362</td>\n",
       "    </tr>\n",
       "  </tbody>\n",
       "</table>\n",
       "</div>"
      ],
      "text/plain": [
       "                  Race Target  count  Porcentaje\n",
       "1   Amer-Indian-Eskimo   >50K     55    0.112610\n",
       "3   Asian-Pac-Islander   >50K    409    0.837411\n",
       "5                Black   >50K    566    1.158862\n",
       "7                Other   >50K     50    0.102373\n",
       "9                White   >50K  10606   21.715362"
      ]
     },
     "execution_count": 30,
     "metadata": {},
     "output_type": "execute_result"
    }
   ],
   "source": [
    "Agsex = A[['Target','Race']]\n",
    "Agsex = Agsex.groupby(['Race','Target']).size().reset_index(name= 'count')\n",
    "Agsex['Porcentaje'] = (Agsex['count'] / Agsex['count'].sum())*100\n",
    "Agsex = Agsex[Agsex['Target'].isin(filtro)]\n",
    "Agsex.head()"
   ]
  },
  {
   "cell_type": "code",
   "execution_count": 31,
   "id": "b62e7736",
   "metadata": {},
   "outputs": [
    {
     "data": {
      "text/html": [
       "<div>\n",
       "<style scoped>\n",
       "    .dataframe tbody tr th:only-of-type {\n",
       "        vertical-align: middle;\n",
       "    }\n",
       "\n",
       "    .dataframe tbody tr th {\n",
       "        vertical-align: top;\n",
       "    }\n",
       "\n",
       "    .dataframe thead th {\n",
       "        text-align: right;\n",
       "    }\n",
       "</style>\n",
       "<table border=\"1\" class=\"dataframe\">\n",
       "  <thead>\n",
       "    <tr style=\"text-align: right;\">\n",
       "      <th></th>\n",
       "      <th>Education</th>\n",
       "      <th>Target</th>\n",
       "      <th>count</th>\n",
       "      <th>Porcentaje</th>\n",
       "    </tr>\n",
       "  </thead>\n",
       "  <tbody>\n",
       "    <tr>\n",
       "      <th>1</th>\n",
       "      <td>10th</td>\n",
       "      <td>&gt;50K</td>\n",
       "      <td>87</td>\n",
       "      <td>0.178129</td>\n",
       "    </tr>\n",
       "    <tr>\n",
       "      <th>3</th>\n",
       "      <td>11th</td>\n",
       "      <td>&gt;50K</td>\n",
       "      <td>92</td>\n",
       "      <td>0.188366</td>\n",
       "    </tr>\n",
       "    <tr>\n",
       "      <th>5</th>\n",
       "      <td>12th</td>\n",
       "      <td>&gt;50K</td>\n",
       "      <td>48</td>\n",
       "      <td>0.098278</td>\n",
       "    </tr>\n",
       "    <tr>\n",
       "      <th>7</th>\n",
       "      <td>1st-4th</td>\n",
       "      <td>&gt;50K</td>\n",
       "      <td>8</td>\n",
       "      <td>0.016380</td>\n",
       "    </tr>\n",
       "    <tr>\n",
       "      <th>9</th>\n",
       "      <td>5th-6th</td>\n",
       "      <td>&gt;50K</td>\n",
       "      <td>27</td>\n",
       "      <td>0.055281</td>\n",
       "    </tr>\n",
       "  </tbody>\n",
       "</table>\n",
       "</div>"
      ],
      "text/plain": [
       "  Education Target  count  Porcentaje\n",
       "1      10th   >50K     87    0.178129\n",
       "3      11th   >50K     92    0.188366\n",
       "5      12th   >50K     48    0.098278\n",
       "7   1st-4th   >50K      8    0.016380\n",
       "9   5th-6th   >50K     27    0.055281"
      ]
     },
     "execution_count": 31,
     "metadata": {},
     "output_type": "execute_result"
    }
   ],
   "source": [
    "Agsex = A[['Target','Education']]\n",
    "Agsex = Agsex.groupby(['Education','Target']).size().reset_index(name= 'count')\n",
    "Agsex['Porcentaje'] = (Agsex['count'] / Agsex['count'].sum())*100\n",
    "Agsex = Agsex[Agsex['Target'].isin(filtro)]\n",
    "Agsex.head()"
   ]
  }
 ],
 "metadata": {
  "kernelspec": {
   "display_name": "coderhouse",
   "language": "python",
   "name": "coderhouse"
  },
  "language_info": {
   "codemirror_mode": {
    "name": "ipython",
    "version": 3
   },
   "file_extension": ".py",
   "mimetype": "text/x-python",
   "name": "python",
   "nbconvert_exporter": "python",
   "pygments_lexer": "ipython3",
   "version": "3.9.7"
  }
 },
 "nbformat": 4,
 "nbformat_minor": 5
}
